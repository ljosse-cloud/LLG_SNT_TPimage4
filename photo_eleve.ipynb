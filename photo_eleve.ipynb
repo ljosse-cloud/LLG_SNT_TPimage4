{
 "cells": [
  {
   "cell_type": "markdown",
   "metadata": {},
   "source": [
    "<table style=\"border:1px solid black\">\n",
    "    <tbody>\n",
    "    <tr>\n",
    "    <td style=\"text-align: center; vertical-align: middle; border:1px solid black;\"><h1>TP</h1></td>\n",
    "       <td><h2>1h30</h2></td>\n",
    "    <td style=\"text-align: center; vertical-align: middle; border:1px solid black;\"><h2>La photographie numérique</h2></td>\n",
    "    <th rowspan=\"2\" style=\"text-align: center; vertical-align: middle; border:1px solid black; background-color:white;\"><img alt=\"logoLLG\" src=\"logoLLG.png\"></th>\n",
    "     </tr>\n",
    "     <tr>\n",
    "    <th colspan=\"2\" style=\"text-align: center; vertical-align: middle; border:1px solid black; background-color:white;\"><img alt=\"logoSNT\" src=\"logoSNT.png\"></th>\n",
    "    <td style=\"text-align: center; vertical-align: middle; border:1px solid black;\"><h2>Traiter par programme une image pour la transformer en agissant sur les trois composantes de ses pixels.</h2></td>\n",
    "    </tr>\n",
    "    </tbody>\n",
    "</table>"
   ]
  },
  {
   "cell_type": "markdown",
   "metadata": {},
   "source": [
    "<h1>Programmation</h1>\n",
    "            <p>La bibliothèque Python « PIL » (Python Imaging Library) permet de \n",
    "               traiter les images dans de nombreux formats. On l’importe avec <i>from \n",
    "               PIL import Image</i><br>\n",
    "               Le parcours des pixels d’une image s’effectue ligne par ligne de \n",
    "               haut en bas et de gauche à droite en partant du pixel du coin \n",
    "               supérieur gauche de coordonnes(0,0) en utilisant la méthode \n",
    "               <i>getpixel((x,y))</i>. On peut aussi lire l’ensemble des donnés d’une \n",
    "               image avec la méthode <i>getdata()</i>.<br>Nous vous proposons de \n",
    "               découvrir quelques fonctions au travers d’un exemple qui affiche \n",
    "               les pixels d’une image : <a href=\"logopython.jpg\" alt=\"logo python\">image de travail</a>.\n",
    "            </p>"
   ]
  },
  {
   "cell_type": "code",
   "execution_count": null,
   "metadata": {},
   "outputs": [],
   "source": [
    "from PIL import Image\n",
    "\n",
    "def AfficherPix(image):\n",
    "    L,H = image.size\n",
    "    for y in range(H): \n",
    "        for x in range(L): \n",
    "            rvb = image.getpixel((x,y)) \n",
    "            print(rvb)"
   ]
  },
  {
   "cell_type": "code",
   "execution_count": null,
   "metadata": {},
   "outputs": [],
   "source": [
    "img = Image.open(\"logopython.jpg\")\n",
    "img.show()\n",
    "AfficherPix(img)"
   ]
  },
  {
   "cell_type": "code",
   "execution_count": null,
   "metadata": {},
   "outputs": [],
   "source": []
  }
 ],
 "metadata": {
  "kernelspec": {
   "display_name": "Python 3",
   "language": "python",
   "name": "python3"
  },
  "language_info": {
   "codemirror_mode": {
    "name": "ipython",
    "version": 3
   },
   "file_extension": ".py",
   "mimetype": "text/x-python",
   "name": "python",
   "nbconvert_exporter": "python",
   "pygments_lexer": "ipython3",
   "version": "3.6.7"
  }
 },
 "nbformat": 4,
 "nbformat_minor": 2
}
